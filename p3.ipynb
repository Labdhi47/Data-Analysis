{
 "cells": [
  {
   "cell_type": "code",
   "execution_count": 1,
   "id": "52ab7081",
   "metadata": {},
   "outputs": [],
   "source": [
    "import pandas as pd\n",
    "\n",
    "# Read excel file with sheet name\n",
    "df = pd.read_excel(\"c:\\\\users\\\\labdh\\\\Omnify_Assessment\\\\Omnify-Analyst-Intership-Task.xlsx\", sheet_name=['Google Ads Data','Listing Site Data'])\n"
   ]
  },
  {
   "cell_type": "code",
   "execution_count": 4,
   "id": "a13c363d",
   "metadata": {},
   "outputs": [],
   "source": [
    "Google_df = df.get('Google Ads Data')"
   ]
  },
  {
   "cell_type": "code",
   "execution_count": 8,
   "id": "335dde38",
   "metadata": {},
   "outputs": [
    {
     "name": "stderr",
     "output_type": "stream",
     "text": [
      "C:\\Users\\labdh\\AppData\\Local\\Temp\\ipykernel_27252\\498247817.py:1: FutureWarning: The default value of regex will change from True to False in a future version. In addition, single character regular expressions will *not* be treated as literal strings when regex=True.\n",
      "  Google_df['Payment ($)']=Google_df['Payment ($)'].str.replace('$','')\n"
     ]
    }
   ],
   "source": [
    "Google_df['Payment ($)']=Google_df['Payment ($)'].str.replace('$','')\n",
    "Google_df['Payment ($)']=Google_df['Payment ($)'].str.replace(',','')\n",
    "Google_df['Payment ($)'] = pd.to_numeric(Google_df['Payment ($)'])"
   ]
  },
  {
   "cell_type": "code",
   "execution_count": 11,
   "id": "730550ea",
   "metadata": {},
   "outputs": [
    {
     "data": {
      "text/html": [
       "<div>\n",
       "<style scoped>\n",
       "    .dataframe tbody tr th:only-of-type {\n",
       "        vertical-align: middle;\n",
       "    }\n",
       "\n",
       "    .dataframe tbody tr th {\n",
       "        vertical-align: top;\n",
       "    }\n",
       "\n",
       "    .dataframe thead th {\n",
       "        text-align: right;\n",
       "    }\n",
       "</style>\n",
       "<table border=\"1\" class=\"dataframe\">\n",
       "  <thead>\n",
       "    <tr style=\"text-align: right;\">\n",
       "      <th></th>\n",
       "      <th>Cost ($)</th>\n",
       "    </tr>\n",
       "    <tr>\n",
       "      <th>Keyword type</th>\n",
       "      <th></th>\n",
       "    </tr>\n",
       "  </thead>\n",
       "  <tbody>\n",
       "    <tr>\n",
       "      <th>Broad</th>\n",
       "      <td>1264.80</td>\n",
       "    </tr>\n",
       "    <tr>\n",
       "      <th>Exact</th>\n",
       "      <td>580.33</td>\n",
       "    </tr>\n",
       "    <tr>\n",
       "      <th>Phrase</th>\n",
       "      <td>943.55</td>\n",
       "    </tr>\n",
       "  </tbody>\n",
       "</table>\n",
       "</div>"
      ],
      "text/plain": [
       "              Cost ($)\n",
       "Keyword type          \n",
       "Broad          1264.80\n",
       "Exact           580.33\n",
       "Phrase          943.55"
      ]
     },
     "execution_count": 11,
     "metadata": {},
     "output_type": "execute_result"
    }
   ],
   "source": [
    "Amount_spent = Google_df.pivot_table(index='Keyword type', values='Cost ($)', aggfunc='sum')\n",
    "Amount_spent"
   ]
  },
  {
   "cell_type": "code",
   "execution_count": 12,
   "id": "5d2d3542",
   "metadata": {},
   "outputs": [
    {
     "data": {
      "text/html": [
       "<div>\n",
       "<style scoped>\n",
       "    .dataframe tbody tr th:only-of-type {\n",
       "        vertical-align: middle;\n",
       "    }\n",
       "\n",
       "    .dataframe tbody tr th {\n",
       "        vertical-align: top;\n",
       "    }\n",
       "\n",
       "    .dataframe thead th {\n",
       "        text-align: right;\n",
       "    }\n",
       "</style>\n",
       "<table border=\"1\" class=\"dataframe\">\n",
       "  <thead>\n",
       "    <tr style=\"text-align: right;\">\n",
       "      <th></th>\n",
       "      <th>Payment ($)</th>\n",
       "      <th>profit</th>\n",
       "    </tr>\n",
       "    <tr>\n",
       "      <th>Keyword type</th>\n",
       "      <th></th>\n",
       "      <th></th>\n",
       "    </tr>\n",
       "  </thead>\n",
       "  <tbody>\n",
       "    <tr>\n",
       "      <th>Broad</th>\n",
       "      <td>5536.0</td>\n",
       "      <td>4271.20</td>\n",
       "    </tr>\n",
       "    <tr>\n",
       "      <th>Exact</th>\n",
       "      <td>2768.0</td>\n",
       "      <td>2187.67</td>\n",
       "    </tr>\n",
       "    <tr>\n",
       "      <th>Phrase</th>\n",
       "      <td>3576.0</td>\n",
       "      <td>2632.45</td>\n",
       "    </tr>\n",
       "  </tbody>\n",
       "</table>\n",
       "</div>"
      ],
      "text/plain": [
       "              Payment ($)   profit\n",
       "Keyword type                      \n",
       "Broad              5536.0  4271.20\n",
       "Exact              2768.0  2187.67\n",
       "Phrase             3576.0  2632.45"
      ]
     },
     "execution_count": 12,
     "metadata": {},
     "output_type": "execute_result"
    }
   ],
   "source": [
    "Amount_earned = Google_df.pivot_table(index='Keyword type', values='Payment ($)', aggfunc='sum')\n",
    "Amount_earned['profit']=Amount_earned['Payment ($)']-Amount_spent['Cost ($)']\n",
    "Amount_earned"
   ]
  },
  {
   "cell_type": "code",
   "execution_count": 13,
   "id": "ae8a6e21",
   "metadata": {},
   "outputs": [],
   "source": [
    "max_profit_key = Amount_earned['profit'].idxmax()"
   ]
  },
  {
   "cell_type": "code",
   "execution_count": 14,
   "id": "d9b666f6",
   "metadata": {},
   "outputs": [
    {
     "name": "stdout",
     "output_type": "stream",
     "text": [
      "The Keyword with maximum profit is Broad\n"
     ]
    }
   ],
   "source": [
    "print(\"The Keyword with maximum profit is\",max_profit_key)"
   ]
  },
  {
   "cell_type": "code",
   "execution_count": null,
   "id": "15f6a48d",
   "metadata": {},
   "outputs": [],
   "source": []
  }
 ],
 "metadata": {
  "kernelspec": {
   "display_name": "Python 3 (ipykernel)",
   "language": "python",
   "name": "python3"
  },
  "language_info": {
   "codemirror_mode": {
    "name": "ipython",
    "version": 3
   },
   "file_extension": ".py",
   "mimetype": "text/x-python",
   "name": "python",
   "nbconvert_exporter": "python",
   "pygments_lexer": "ipython3",
   "version": "3.9.12"
  }
 },
 "nbformat": 4,
 "nbformat_minor": 5
}
