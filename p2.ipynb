{
 "cells": [
  {
   "cell_type": "code",
   "execution_count": 26,
   "id": "5d49070e",
   "metadata": {},
   "outputs": [],
   "source": [
    "import pandas as pd\n",
    "\n",
    "# Read excel file with sheet name\n",
    "df = pd.read_excel(\"c:\\\\users\\\\labdh\\\\Omnify_Assessment\\\\Omnify-Analyst-Intership-Task.xlsx\", sheet_name=['Google Ads Data','Listing Site Data'])\n"
   ]
  },
  {
   "cell_type": "code",
   "execution_count": 27,
   "id": "ac2b3deb",
   "metadata": {},
   "outputs": [],
   "source": [
    "List_df = df.get('Listing Site Data')"
   ]
  },
  {
   "cell_type": "code",
   "execution_count": 28,
   "id": "d3879d91",
   "metadata": {},
   "outputs": [],
   "source": [
    "List_df['Money Spent ($)'] = pd.to_numeric(List_df['Money Spent ($)'])"
   ]
  },
  {
   "cell_type": "code",
   "execution_count": 29,
   "id": "3062ef0f",
   "metadata": {},
   "outputs": [
    {
     "data": {
      "text/html": [
       "<div>\n",
       "<style scoped>\n",
       "    .dataframe tbody tr th:only-of-type {\n",
       "        vertical-align: middle;\n",
       "    }\n",
       "\n",
       "    .dataframe tbody tr th {\n",
       "        vertical-align: top;\n",
       "    }\n",
       "\n",
       "    .dataframe thead th {\n",
       "        text-align: right;\n",
       "    }\n",
       "</style>\n",
       "<table border=\"1\" class=\"dataframe\">\n",
       "  <thead>\n",
       "    <tr style=\"text-align: right;\">\n",
       "      <th></th>\n",
       "      <th>Money Spent ($)</th>\n",
       "    </tr>\n",
       "    <tr>\n",
       "      <th>Channel</th>\n",
       "      <th></th>\n",
       "    </tr>\n",
       "  </thead>\n",
       "  <tbody>\n",
       "    <tr>\n",
       "      <th>Capterra</th>\n",
       "      <td>19461.85</td>\n",
       "    </tr>\n",
       "    <tr>\n",
       "      <th>GetApp</th>\n",
       "      <td>5449.90</td>\n",
       "    </tr>\n",
       "    <tr>\n",
       "      <th>Software Advice</th>\n",
       "      <td>311.50</td>\n",
       "    </tr>\n",
       "  </tbody>\n",
       "</table>\n",
       "</div>"
      ],
      "text/plain": [
       "                 Money Spent ($)\n",
       "Channel                         \n",
       "Capterra                19461.85\n",
       "GetApp                   5449.90\n",
       "Software Advice           311.50"
      ]
     },
     "execution_count": 29,
     "metadata": {},
     "output_type": "execute_result"
    }
   ],
   "source": [
    "Amount_spent = List_df.pivot_table(index='Channel', values='Money Spent ($)', aggfunc='sum')\n",
    "Amount_spent"
   ]
  },
  {
   "cell_type": "code",
   "execution_count": 30,
   "id": "035f1c7e",
   "metadata": {},
   "outputs": [
    {
     "name": "stderr",
     "output_type": "stream",
     "text": [
      "C:\\Users\\labdh\\AppData\\Local\\Temp\\ipykernel_21436\\3372762533.py:1: FutureWarning: The default value of regex will change from True to False in a future version. In addition, single character regular expressions will *not* be treated as literal strings when regex=True.\n",
      "  List_df['Paid']=List_df['Paid'].str.replace('$','')\n"
     ]
    }
   ],
   "source": [
    "List_df['Paid']=List_df['Paid'].str.replace('$','')\n",
    "List_df['Paid']=List_df['Paid'].str.replace(',','')\n",
    "List_df['Paid'] = pd.to_numeric(List_df['Paid'])"
   ]
  },
  {
   "cell_type": "code",
   "execution_count": 31,
   "id": "0f2ee67f",
   "metadata": {},
   "outputs": [
    {
     "data": {
      "text/html": [
       "<div>\n",
       "<style scoped>\n",
       "    .dataframe tbody tr th:only-of-type {\n",
       "        vertical-align: middle;\n",
       "    }\n",
       "\n",
       "    .dataframe tbody tr th {\n",
       "        vertical-align: top;\n",
       "    }\n",
       "\n",
       "    .dataframe thead th {\n",
       "        text-align: right;\n",
       "    }\n",
       "</style>\n",
       "<table border=\"1\" class=\"dataframe\">\n",
       "  <thead>\n",
       "    <tr style=\"text-align: right;\">\n",
       "      <th></th>\n",
       "      <th>Paid</th>\n",
       "      <th>profit</th>\n",
       "    </tr>\n",
       "    <tr>\n",
       "      <th>Channel</th>\n",
       "      <th></th>\n",
       "      <th></th>\n",
       "    </tr>\n",
       "  </thead>\n",
       "  <tbody>\n",
       "    <tr>\n",
       "      <th>Capterra</th>\n",
       "      <td>14802.0</td>\n",
       "      <td>-4659.85</td>\n",
       "    </tr>\n",
       "    <tr>\n",
       "      <th>GetApp</th>\n",
       "      <td>1788.0</td>\n",
       "      <td>-3661.90</td>\n",
       "    </tr>\n",
       "    <tr>\n",
       "      <th>Software Advice</th>\n",
       "      <td>1794.0</td>\n",
       "      <td>1482.50</td>\n",
       "    </tr>\n",
       "  </tbody>\n",
       "</table>\n",
       "</div>"
      ],
      "text/plain": [
       "                    Paid   profit\n",
       "Channel                          \n",
       "Capterra         14802.0 -4659.85\n",
       "GetApp            1788.0 -3661.90\n",
       "Software Advice   1794.0  1482.50"
      ]
     },
     "execution_count": 31,
     "metadata": {},
     "output_type": "execute_result"
    }
   ],
   "source": [
    "Amount_earned = List_df.pivot_table(index='Channel', values='Paid', aggfunc='sum')\n",
    "Amount_earned['profit']=Amount_earned['Paid']-Amount_spent['Money Spent ($)']\n",
    "Amount_earned"
   ]
  },
  {
   "cell_type": "code",
   "execution_count": 32,
   "id": "7874166f",
   "metadata": {},
   "outputs": [
    {
     "name": "stdout",
     "output_type": "stream",
     "text": [
      "The Channel with maximum profit is Software Advice\n"
     ]
    }
   ],
   "source": [
    "print(\"The Channel with maximum profit is\",Amount_earned['profit'].index.max())"
   ]
  },
  {
   "cell_type": "code",
   "execution_count": null,
   "id": "3b6e1d94",
   "metadata": {},
   "outputs": [],
   "source": []
  }
 ],
 "metadata": {
  "kernelspec": {
   "display_name": "Python 3 (ipykernel)",
   "language": "python",
   "name": "python3"
  },
  "language_info": {
   "codemirror_mode": {
    "name": "ipython",
    "version": 3
   },
   "file_extension": ".py",
   "mimetype": "text/x-python",
   "name": "python",
   "nbconvert_exporter": "python",
   "pygments_lexer": "ipython3",
   "version": "3.9.12"
  }
 },
 "nbformat": 4,
 "nbformat_minor": 5
}
